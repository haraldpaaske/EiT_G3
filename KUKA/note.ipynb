{
 "cells": [
  {
   "cell_type": "markdown",
   "metadata": {},
   "source": [
    "## Arm configuration\n",
    "\n",
    "| Joint i | $\\theta_i$ | $\\alpha_i$ | $r_i$(cm)| $d_i$|\n",
    "|----------|----------|----------| --------------|--------------- |\n",
    "| 1 | $\\theta_1$ | Row 1, Col 3 |0 |d|\n",
    "| 2 | Row 2, Col 2 | Row 2, Col 3 |r | d|"
   ]
  },
  {
   "cell_type": "markdown",
   "metadata": {},
   "source": [
    "## Denavit-Hartenberg transformation\n",
    "\n",
    "\n",
    "$$\n",
    "T^{i-1}_i = \n",
    "\\begin{bmatrix}\n",
    "    \\cos(\\theta) & -\\sin(\\theta)\\cos(\\theta) & \\sin(\\theta)\\sin(\\alpha) & \\alpha \\cos(\\theta) \\\\\n",
    "    \\sin(\\theta) & \\cos(\\theta)\\cos(\\alpha) & -\\cos(\\theta)\\sin(\\alpha) & \\alpha\\sin(\\theta) \\\\\n",
    "    0 & \\sin(\\alpha) & \\cos(\\alpha) & d \\\\\n",
    "    0 & 0 & 0 & 1 \\\\\n",
    "\\end{bmatrix}\n",
    "$$"
   ]
  }
 ],
 "metadata": {
  "language_info": {
   "name": "python"
  }
 },
 "nbformat": 4,
 "nbformat_minor": 2
}
