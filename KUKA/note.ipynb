{
 "cells": [
  {
   "cell_type": "markdown",
   "metadata": {},
   "source": [
    "## Arm configuration\n",
    "\n",
    "| Joint i | $\\theta_i$ | $\\alpha_i$ | $r_i$(cm)| $d_i$|\n",
    "|----------|----------|----------| --------------|--------------- |\n",
    "| 1 | $\\theta_1$ | Row 1, Col 3 |0 |d|\n",
    "| 2 | Row 2, Col 2 | Row 2, Col 3 |r | d|\n",
    "\n",
    "------------------------------------\n",
    "\n",
    "|  Joint i   |  Motion range    |\n",
    "| -----------| ------------------|\n",
    "|$\\theta_1$ | $\\pm 185^\\circ $ | \n",
    "|$\\theta_2$ | $-130^\\circ, 20^\\circ $ | \n",
    "|$\\theta_3$ | $-100^\\circ, 144^\\circ $ | \n",
    "|$\\theta_4$ | $\\pm 350^\\circ $ | \n",
    "|$\\theta_5$ | $\\pm 120^\\circ $ | \n",
    "|$\\theta_6$ | $\\pm 350^\\circ $ | \n"
   ]
  },
  {
   "cell_type": "markdown",
   "metadata": {},
   "source": [
    "## Denavit-Hartenberg transformation\n",
    "\n",
    "The transformation between joints is described by the matrix:\n",
    "\\begin{equation*}\n",
    "\\mathbf{T}^{i-1}_i = \n",
    "\\begin{bmatrix}\n",
    "    \\cos(\\theta_i) & -\\sin(\\theta_i)\\cos(\\theta_i) & \\sin(\\theta_i)\\sin(\\alpha_i) & \\alpha_i \\cos(\\theta_i) \\\\\n",
    "    \\sin(\\theta_i) & \\cos(\\theta_i)\\cos(\\alpha_i) & -\\cos(\\theta_i)\\sin(\\alpha_i) & \\alpha_i\\sin(\\theta_i) \\\\\n",
    "    0 & \\sin(\\alpha_i) & \\cos(\\alpha_i) & d \\\\\n",
    "    0 & 0 & 0 & 1 \\\\\n",
    "\\end{bmatrix} = \\begin{bmatrix} \\mathbf{R}^{i-1}_i & d^{i-1}_{i} \\\\ 0 & 1\n",
    "\\end{bmatrix}\n",
    "\\end{equation*}\n",
    "\n",
    "To get the configuration of the end effector in terms of the base frame we use the following relationship\n",
    "\n",
    "\\begin{equation*}\n",
    "T^{b}_6 = T^{b}_1 T^{1}_2 T^{2}_3 T^{3}_4 T^{4}_5 T^{5}_6\n",
    "\\end{equation*}\n",
    "\n",
    "Where the cordinates of the end effector is given by:\n",
    "\n",
    "\\begin{equation*}\n",
    "[x, y, z]^T = d^b_6 \n",
    "\\end{equation*}\n",
    "\n",
    "And the orientation of the end effector, using euler angles, is given by:\n",
    "\n",
    "\\begin{align*}\n",
    "\\phi &= atan2(r_{21}, r_{22}) \\\\\n",
    "\\theta &= atan2(-r_{20}, \\sqrt{r_{21}^2 + r_{22}^2}) \\\\\n",
    "\\psi &= atan2(r_{10}, r_{00})\n",
    "\\end{align*}"
   ]
  },
  {
   "cell_type": "markdown",
   "metadata": {},
   "source": [
    "## Neural network\n",
    "\n",
    "* input: $[x, y, z, \\phi, \\theta, \\psi]^T$\n",
    "* output: $[\\theta_1, \\theta_2, \\theta_3, \\theta_4, \\theta_5, \\theta_6]^T$"
   ]
  }
 ],
 "metadata": {
  "language_info": {
   "name": "python"
  }
 },
 "nbformat": 4,
 "nbformat_minor": 2
}
